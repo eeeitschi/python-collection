{
 "cells": [
  {
   "cell_type": "code",
   "execution_count": 4,
   "metadata": {},
   "outputs": [],
   "source": [
    "import numpy as np\n",
    "import scipy.linalg as la"
   ]
  },
  {
   "cell_type": "code",
   "execution_count": 5,
   "metadata": {},
   "outputs": [],
   "source": [
    "# Matrix creation\n",
    "A = np.array([[1, 2], [3, 4]])"
   ]
  },
  {
   "cell_type": "code",
   "execution_count": 6,
   "metadata": {},
   "outputs": [],
   "source": [
    "# Matrix transpose\n",
    "A_transpose = A.T"
   ]
  },
  {
   "cell_type": "code",
   "execution_count": 7,
   "metadata": {},
   "outputs": [],
   "source": [
    "# Matrix inverse\n",
    "A_inv = la.inv(A)"
   ]
  },
  {
   "cell_type": "code",
   "execution_count": 8,
   "metadata": {},
   "outputs": [],
   "source": [
    "# Matrix determinant\n",
    "det = la.det(A)"
   ]
  },
  {
   "cell_type": "code",
   "execution_count": 9,
   "metadata": {},
   "outputs": [
    {
     "ename": "AttributeError",
     "evalue": "module 'scipy.linalg' has no attribute 'matrix_rank'",
     "output_type": "error",
     "traceback": [
      "\u001b[0;31m---------------------------------------------------------------------------\u001b[0m",
      "\u001b[0;31mAttributeError\u001b[0m                            Traceback (most recent call last)",
      "\u001b[1;32m/Users/achim/GitHub/python-collection/cheatsheet.ipynb Cell 6\u001b[0m in \u001b[0;36m<cell line: 2>\u001b[0;34m()\u001b[0m\n\u001b[1;32m      <a href='vscode-notebook-cell:/Users/achim/GitHub/python-collection/cheatsheet.ipynb#W5sZmlsZQ%3D%3D?line=0'>1</a>\u001b[0m \u001b[39m# Matrix rank\u001b[39;00m\n\u001b[0;32m----> <a href='vscode-notebook-cell:/Users/achim/GitHub/python-collection/cheatsheet.ipynb#W5sZmlsZQ%3D%3D?line=1'>2</a>\u001b[0m rank \u001b[39m=\u001b[39m la\u001b[39m.\u001b[39;49mmatrix_rank(A)\n",
      "\u001b[0;31mAttributeError\u001b[0m: module 'scipy.linalg' has no attribute 'matrix_rank'"
     ]
    }
   ],
   "source": [
    "# Matrix rank\n",
    "rank = la.matrix_rank(A)"
   ]
  },
  {
   "cell_type": "code",
   "execution_count": 10,
   "metadata": {},
   "outputs": [],
   "source": [
    "# Eigenvalues and eigenvectors\n",
    "eig_vals, eig_vecs = la.eig(A)"
   ]
  },
  {
   "cell_type": "code",
   "execution_count": 11,
   "metadata": {},
   "outputs": [
    {
     "ename": "NameError",
     "evalue": "name 'b' is not defined",
     "output_type": "error",
     "traceback": [
      "\u001b[0;31m---------------------------------------------------------------------------\u001b[0m",
      "\u001b[0;31mNameError\u001b[0m                                 Traceback (most recent call last)",
      "\u001b[1;32m/Users/achim/GitHub/python-collection/cheatsheet.ipynb Cell 8\u001b[0m in \u001b[0;36m<cell line: 2>\u001b[0;34m()\u001b[0m\n\u001b[1;32m      <a href='vscode-notebook-cell:/Users/achim/GitHub/python-collection/cheatsheet.ipynb#X10sZmlsZQ%3D%3D?line=0'>1</a>\u001b[0m \u001b[39m# Solving linear equations\u001b[39;00m\n\u001b[0;32m----> <a href='vscode-notebook-cell:/Users/achim/GitHub/python-collection/cheatsheet.ipynb#X10sZmlsZQ%3D%3D?line=1'>2</a>\u001b[0m x \u001b[39m=\u001b[39m la\u001b[39m.\u001b[39msolve(A, b)\n",
      "\u001b[0;31mNameError\u001b[0m: name 'b' is not defined"
     ]
    }
   ],
   "source": [
    "# Solving linear equations\n",
    "x = la.solve(A, b) # where A*x = b"
   ]
  },
  {
   "cell_type": "code",
   "execution_count": 12,
   "metadata": {},
   "outputs": [
    {
     "ename": "NameError",
     "evalue": "name 'b' is not defined",
     "output_type": "error",
     "traceback": [
      "\u001b[0;31m---------------------------------------------------------------------------\u001b[0m",
      "\u001b[0;31mNameError\u001b[0m                                 Traceback (most recent call last)",
      "\u001b[1;32m/Users/achim/GitHub/python-collection/cheatsheet.ipynb Cell 9\u001b[0m in \u001b[0;36m<cell line: 2>\u001b[0;34m()\u001b[0m\n\u001b[1;32m      <a href='vscode-notebook-cell:/Users/achim/GitHub/python-collection/cheatsheet.ipynb#X11sZmlsZQ%3D%3D?line=0'>1</a>\u001b[0m \u001b[39m# Gaussian elimination method\u001b[39;00m\n\u001b[0;32m----> <a href='vscode-notebook-cell:/Users/achim/GitHub/python-collection/cheatsheet.ipynb#X11sZmlsZQ%3D%3D?line=1'>2</a>\u001b[0m x \u001b[39m=\u001b[39m la\u001b[39m.\u001b[39msolve(A, b, assume_a\u001b[39m=\u001b[39m\u001b[39m'\u001b[39m\u001b[39mgen\u001b[39m\u001b[39m'\u001b[39m)\n",
      "\u001b[0;31mNameError\u001b[0m: name 'b' is not defined"
     ]
    }
   ],
   "source": [
    "# Gaussian elimination method\n",
    "x = la.solve(A, b, assume_a='gen')"
   ]
  },
  {
   "cell_type": "code",
   "execution_count": 13,
   "metadata": {},
   "outputs": [
    {
     "ename": "NameError",
     "evalue": "name 'B' is not defined",
     "output_type": "error",
     "traceback": [
      "\u001b[0;31m---------------------------------------------------------------------------\u001b[0m",
      "\u001b[0;31mNameError\u001b[0m                                 Traceback (most recent call last)",
      "\u001b[1;32m/Users/achim/GitHub/python-collection/cheatsheet.ipynb Cell 10\u001b[0m in \u001b[0;36m<cell line: 2>\u001b[0;34m()\u001b[0m\n\u001b[1;32m      <a href='vscode-notebook-cell:/Users/achim/GitHub/python-collection/cheatsheet.ipynb#X12sZmlsZQ%3D%3D?line=0'>1</a>\u001b[0m \u001b[39m# Matrix multiplication\u001b[39;00m\n\u001b[0;32m----> <a href='vscode-notebook-cell:/Users/achim/GitHub/python-collection/cheatsheet.ipynb#X12sZmlsZQ%3D%3D?line=1'>2</a>\u001b[0m C \u001b[39m=\u001b[39m np\u001b[39m.\u001b[39mdot(A, B)\n",
      "\u001b[0;31mNameError\u001b[0m: name 'B' is not defined"
     ]
    }
   ],
   "source": [
    "# Matrix multiplication\n",
    "C = np.dot(A, B)"
   ]
  },
  {
   "cell_type": "code",
   "execution_count": 14,
   "metadata": {},
   "outputs": [
    {
     "ename": "AttributeError",
     "evalue": "module 'scipy.linalg' has no attribute 'matrix_power'",
     "output_type": "error",
     "traceback": [
      "\u001b[0;31m---------------------------------------------------------------------------\u001b[0m",
      "\u001b[0;31mAttributeError\u001b[0m                            Traceback (most recent call last)",
      "\u001b[1;32m/Users/achim/GitHub/python-collection/cheatsheet.ipynb Cell 11\u001b[0m in \u001b[0;36m<cell line: 2>\u001b[0;34m()\u001b[0m\n\u001b[1;32m      <a href='vscode-notebook-cell:/Users/achim/GitHub/python-collection/cheatsheet.ipynb#X13sZmlsZQ%3D%3D?line=0'>1</a>\u001b[0m \u001b[39m# Matrix exponentiation\u001b[39;00m\n\u001b[0;32m----> <a href='vscode-notebook-cell:/Users/achim/GitHub/python-collection/cheatsheet.ipynb#X13sZmlsZQ%3D%3D?line=1'>2</a>\u001b[0m A_exp \u001b[39m=\u001b[39m la\u001b[39m.\u001b[39;49mmatrix_power(A, n)\n",
      "\u001b[0;31mAttributeError\u001b[0m: module 'scipy.linalg' has no attribute 'matrix_power'"
     ]
    }
   ],
   "source": [
    "# Matrix exponentiation\n",
    "A_exp = la.matrix_power(A, n)"
   ]
  },
  {
   "cell_type": "code",
   "execution_count": null,
   "metadata": {},
   "outputs": [],
   "source": [
    "# Matrix decomposition\n",
    "P, L, U = la.lu(A) # LU decomposition\n",
    "Q, R = la.qr(A) # QR decomposition"
   ]
  },
  {
   "cell_type": "code",
   "execution_count": null,
   "metadata": {},
   "outputs": [],
   "source": [
    "# QR decomposition using Gram-Schmidt process\n",
    "Q, R = np.linalg.qr(A, mode='complete')"
   ]
  }
 ],
 "metadata": {
  "kernelspec": {
   "display_name": "base",
   "language": "python",
   "name": "python3"
  },
  "language_info": {
   "codemirror_mode": {
    "name": "ipython",
    "version": 3
   },
   "file_extension": ".py",
   "mimetype": "text/x-python",
   "name": "python",
   "nbconvert_exporter": "python",
   "pygments_lexer": "ipython3",
   "version": "3.9.13"
  },
  "orig_nbformat": 4,
  "vscode": {
   "interpreter": {
    "hash": "074d946918b64aeb6213f0c0f3673d108bc18f36e4c77422404151a90a25ac0b"
   }
  }
 },
 "nbformat": 4,
 "nbformat_minor": 2
}
