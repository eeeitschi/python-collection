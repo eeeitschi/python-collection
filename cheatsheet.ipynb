{
 "cells": [
  {
   "cell_type": "code",
   "execution_count": 1,
   "metadata": {},
   "outputs": [],
   "source": [
    "import numpy as np\n",
    "import scipy.linalg as la"
   ]
  },
  {
   "cell_type": "code",
   "execution_count": null,
   "metadata": {},
   "outputs": [],
   "source": [
    "# Matrix creation\n",
    "A = np.array([[1, 2], [3, 4]])"
   ]
  },
  {
   "cell_type": "code",
   "execution_count": null,
   "metadata": {},
   "outputs": [],
   "source": [
    "# Matrix transpose\n",
    "A_transpose = A.T"
   ]
  },
  {
   "cell_type": "code",
   "execution_count": null,
   "metadata": {},
   "outputs": [],
   "source": [
    "# Matrix inverse\n",
    "A_inv = la.inv(A)"
   ]
  },
  {
   "cell_type": "code",
   "execution_count": null,
   "metadata": {},
   "outputs": [],
   "source": [
    "# Matrix determinant\n",
    "det = la.det(A)"
   ]
  },
  {
   "cell_type": "code",
   "execution_count": null,
   "metadata": {},
   "outputs": [],
   "source": [
    "# Matrix rank\n",
    "rank = la.matrix_rank(A)"
   ]
  },
  {
   "cell_type": "code",
   "execution_count": null,
   "metadata": {},
   "outputs": [],
   "source": [
    "# Eigenvalues and eigenvectors\n",
    "eig_vals, eig_vecs = la.eig(A)"
   ]
  },
  {
   "cell_type": "code",
   "execution_count": null,
   "metadata": {},
   "outputs": [],
   "source": [
    "# Solving linear equations\n",
    "x = la.solve(A, b) # where A*x = b"
   ]
  },
  {
   "cell_type": "code",
   "execution_count": null,
   "metadata": {},
   "outputs": [],
   "source": [
    "# Gaussian elimination method\n",
    "x = la.solve(A, b, assume_a='gen')"
   ]
  },
  {
   "cell_type": "code",
   "execution_count": null,
   "metadata": {},
   "outputs": [],
   "source": [
    "# Matrix multiplication\n",
    "C = np.dot(A, B)"
   ]
  },
  {
   "cell_type": "code",
   "execution_count": null,
   "metadata": {},
   "outputs": [],
   "source": [
    "# Matrix exponentiation\n",
    "A_exp = la.matrix_power(A, n)"
   ]
  },
  {
   "cell_type": "code",
   "execution_count": null,
   "metadata": {},
   "outputs": [],
   "source": [
    "# Matrix decomposition\n",
    "P, L, U = la.lu(A) # LU decomposition\n",
    "Q, R = la.qr(A) # QR decomposition"
   ]
  },
  {
   "cell_type": "code",
   "execution_count": null,
   "metadata": {},
   "outputs": [],
   "source": [
    "# QR decomposition using Gram-Schmidt process\n",
    "Q, R = np.linalg.qr(A, mode='complete')"
   ]
  },
  {
   "cell_type": "code",
   "execution_count": null,
   "metadata": {},
   "outputs": [],
   "source": [
    "# Inverse einer Matrix\n",
    "import numpy as np\n",
    "a = np.array([[1., 2.], [3., 4.]])\n",
    "ainv = np.linalg.inv(a)\n",
    "\n",
    "print('matrix', a)\n",
    "print('inverse of the matrix', ainv)"
   ]
  },
  {
   "cell_type": "code",
   "execution_count": null,
   "metadata": {},
   "outputs": [],
   "source": [
    "# Gram-Schmidt, Orthogonalbasis (nicht orthonormal!)\n",
    "def gramSchmidt(vektoren):\n",
    "    u1 = vektoren[0]\n",
    "    u2 = vektoren[1] - (((vektoren[1]@u1)/(u1@u1))*u1)\n",
    "    u3 = vektoren[2] - ((vektoren[2]@u1)/(u1@u1))*u1 - ((vektoren[2]@u2)/(u2@u2))*u2\n",
    "    print(u1,u2,u3)\n",
    "\n",
    "v1 = np.array([1, -1, 1, -1])\n",
    "v2 = np.array([3, 4, 4, 3])\n",
    "v3 = np.array([1, 3, 4, 5])\n",
    "gramSchmidt([v1,v2,v3])"
   ]
  },
  {
   "cell_type": "code",
   "execution_count": null,
   "metadata": {},
   "outputs": [],
   "source": [
    "# Funktioniert nur wenn die die Reihen und Spaltenvektoren linear unabhängig sind.\n",
    "def gram_schmidt_with_np(A):\n",
    "    \"\"\"Orthogonalize a set of vectors stored as the columns of matrix A.\"\"\"\n",
    "    # Get the number of vectors.\n",
    "    n = A.shape[1]\n",
    "    for j in range(n):\n",
    "        # To orthogonalize the vector in column j with respect to the\n",
    "        # previous vectors, subtract from it its projection onto\n",
    "        # each of the previous vectors.\n",
    "        for k in range(j):\n",
    "            A[:, j] -= np.dot(A[:, k], A[:, j]) * A[:, k]\n",
    "        A[:, j] = A[:, j] / np.linalg.norm(A[:, j])\n",
    "    return A\n",
    "\n",
    "\n",
    "test = np.array([[3.0, 1.0], [2.0, 2.0]])\n",
    "test2 = np.array([[1.0, 1.0, 0.0], [1.0, 3.0, 1.0], [2.0, -1.0, 1.0]])\n",
    "\n",
    "print(np.array(gram_schmidt_with_np(test)))\n",
    "print(np.array(gram_schmidt_with_np(test2)))"
   ]
  },
  {
   "cell_type": "code",
   "execution_count": null,
   "metadata": {},
   "outputs": [],
   "source": [
    "# Gram-Schmidt-Verfahren\n",
    "def gram_schmidt_columns_by_QR(X):\n",
    "    Q, R = np.linalg.qr(X)\n",
    "    return Q\n",
    "\n",
    "test = np.array([[3.0, 1.0], [2.0, 2.0]])\n",
    "test2 = np.array([[1.0, 1.0, 0.0], [1.0, 3.0, 1.0], [2.0, -1.0, 1.0]])\n",
    "\n",
    "print(np.array(gram_schmidt_columns_by_QR(test)))\n",
    "print(np.array(gram_schmidt_columns_by_QR(test2)))"
   ]
  },
  {
   "cell_type": "code",
   "execution_count": null,
   "metadata": {},
   "outputs": [],
   "source": [
    "# Matrix Potenzieren\n",
    "m_2 = np.linalg.matrix_power(M, 2);"
   ]
  },
  {
   "cell_type": "code",
   "execution_count": 3,
   "metadata": {},
   "outputs": [
    {
     "data": {
      "text/plain": [
       "-2.0000000000000004"
      ]
     },
     "execution_count": 3,
     "metadata": {},
     "output_type": "execute_result"
    }
   ],
   "source": [
    "# Determinante berechnen\n",
    "m = np.array([[1,2], [3,4]])\n",
    "det = np.linalg.det(m)\n",
    "det"
   ]
  },
  {
   "cell_type": "code",
   "execution_count": 3,
   "metadata": {},
   "outputs": [
    {
     "name": "stdout",
     "output_type": "stream",
     "text": [
      "[[17  1]\n",
      " [28  1]]\n"
     ]
    }
   ],
   "source": [
    "# Matrizen-Multiplikation\n",
    "import numpy as np\n",
    "x = np.array( [[2,3], [3, 5]] )\n",
    "y = np.matrix( [[1,2], [5, -1]] )\n",
    "print(np.dot(x,y))"
   ]
  },
  {
   "cell_type": "code",
   "execution_count": 4,
   "metadata": {},
   "outputs": [
    {
     "name": "stdout",
     "output_type": "stream",
     "text": [
      "[2. 3.]\n"
     ]
    }
   ],
   "source": [
    "# Lineares Gleichungssystem lösen\n",
    "import numpy as np\n",
    "a = np.array([[3,1], [1,2]])\n",
    "b = np.array([9,8])\n",
    "x = np.linalg.solve(a, b)\n",
    "print(x)"
   ]
  },
  {
   "cell_type": "code",
   "execution_count": 5,
   "metadata": {},
   "outputs": [
    {
     "data": {
      "text/plain": [
       "array([[-0.85065081, -0.52573111],\n",
       "       [-0.52573111,  0.85065081]])"
      ]
     },
     "execution_count": 5,
     "metadata": {},
     "output_type": "execute_result"
    }
   ],
   "source": [
    "# Orthogonalbasis einer Matrix abbilden\n",
    "import scipy as sp\n",
    "a = np.array([[3,1], [1,2]])\n",
    "oa = sp.linalg.orth(a)\n",
    "oa"
   ]
  },
  {
   "cell_type": "code",
   "execution_count": null,
   "metadata": {},
   "outputs": [],
   "source": [
    "# Transposieren einer Matrix\n",
    "np.transpose(A)"
   ]
  }
 ],
 "metadata": {
  "kernelspec": {
   "display_name": "base",
   "language": "python",
   "name": "python3"
  },
  "language_info": {
   "codemirror_mode": {
    "name": "ipython",
    "version": 3
   },
   "file_extension": ".py",
   "mimetype": "text/x-python",
   "name": "python",
   "nbconvert_exporter": "python",
   "pygments_lexer": "ipython3",
   "version": "3.9.13 | packaged by conda-forge | (main, May 27 2022, 17:00:33) \n[Clang 13.0.1 ]"
  },
  "orig_nbformat": 4,
  "vscode": {
   "interpreter": {
    "hash": "074d946918b64aeb6213f0c0f3673d108bc18f36e4c77422404151a90a25ac0b"
   }
  }
 },
 "nbformat": 4,
 "nbformat_minor": 2
}
