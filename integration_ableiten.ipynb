{
 "cells": [
  {
   "cell_type": "code",
   "execution_count": 1,
   "metadata": {},
   "outputs": [],
   "source": [
    "import numpy as np\n",
    "import matplotlib.pyplot as plt\n",
    "import math\n",
    "from sympy import *\n",
    "from scipy import interpolate\n",
    "from scipy.interpolate import interp1d\n",
    "import scipy.integrate\n",
    "\n",
    "%matplotlib inline"
   ]
  },
  {
   "cell_type": "code",
   "execution_count": 2,
   "metadata": {},
   "outputs": [
    {
     "name": "stdout",
     "output_type": "stream",
     "text": [
      "Kontrolle mit scipy:  (2.177586090303602, 2.4176062155585345e-14)\n"
     ]
    }
   ],
   "source": [
    "#Integration\n",
    "def testFunc(x):\n",
    "    return math.pi * 1 / x\n",
    "\n",
    "a = 1 #untere Integrationsgrenze\n",
    "b = 2 #obere Integrationsgrenze\n",
    "n = [2, 10, 100, 1000, 10000, 100000] #Anzahl Stützstellen (Streifen)\n",
    "print(\"Kontrolle mit scipy: \", scipy.integrate.quad(testFunc, a, b))"
   ]
  },
  {
   "cell_type": "code",
   "execution_count": 3,
   "metadata": {},
   "outputs": [
    {
     "name": "stdout",
     "output_type": "stream",
     "text": [
      "f(x) = x**2\n",
      "Stammfunktion: F(x) = x**3/3\n",
      "Ableitung: f'(x) = 2*x\n"
     ]
    }
   ],
   "source": [
    "#Ableiten\n",
    "x = symbols('x')\n",
    "f = x**2\n",
    "print(\"f(x) =\", f)\n",
    "print(\"Stammfunktion: F(x) =\", integrate(f, x))\n",
    "print(\"Ableitung: f'(x) =\", diff(f, x))"
   ]
  }
 ],
 "metadata": {
  "kernelspec": {
   "display_name": "Python 3",
   "language": "python",
   "name": "python3"
  },
  "language_info": {
   "codemirror_mode": {
    "name": "ipython",
    "version": 3
   },
   "file_extension": ".py",
   "mimetype": "text/x-python",
   "name": "python",
   "nbconvert_exporter": "python",
   "pygments_lexer": "ipython3",
   "version": "3.9.6"
  },
  "vscode": {
   "interpreter": {
    "hash": "31f2aee4e71d21fbe5cf8b01ff0e069b9275f58929596ceb00d14d90e3e16cd6"
   }
  }
 },
 "nbformat": 4,
 "nbformat_minor": 4
}
