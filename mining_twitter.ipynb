{
 "cells": [
  {
   "attachments": {},
   "cell_type": "markdown",
   "metadata": {},
   "source": [
    "### Mining Twitter"
   ]
  },
  {
   "cell_type": "code",
   "execution_count": null,
   "metadata": {},
   "outputs": [],
   "source": [
    "#! pip install twitter\n",
    "import twitter\n",
    "\n",
    "# Go to https://developer.twitter.com/en/apps to create an app and get values\n",
    "# for these credentials, which you'll need to provide in place of these\n",
    "# empty string values that are defined as placeholders.\n",
    "# See https://developer.twitter.com/en/docs/basics/authentication/overview/oauth\n",
    "# for more information on Twitter's OAuth implementation.\n",
    "\n",
    "#Eingabe der Consumer und OAUTH Keys. Die Keys wurden aus sicherheitsgründen verändert.\n",
    "CONSUMER_KEY = 'key_goes_here'\n",
    "CONSUMER_SECRET = 'secret_goes_here'\n",
    "ACCESS_TOKEN = 'access_token_goes_here'\n",
    "ACCESS_TOKEN_SECRET = 'access_token_secret_goes_here'\n",
    "\n",
    "auth = twitter.oauth.OAuth(OAUTH_TOKEN, OAUTH_TOKEN_SECRET,\n",
    "                           CONSUMER_KEY, CONSUMER_SECRET)\n",
    "\n",
    "twitter_api = twitter.Twitter(auth=auth)\n",
    "\n",
    "# Nothing to see by displaying twitter_api except that it's now a\n",
    "# defined variable\n",
    "\n",
    "print(twitter_api)"
   ]
  },
  {
   "cell_type": "markdown",
   "metadata": {},
   "source": [
    "## Data for Los Angeles"
   ]
  },
  {
   "cell_type": "code",
   "execution_count": null,
   "metadata": {},
   "outputs": [],
   "source": [
    "LS_WOE_ID = 23424977\n",
    "\n",
    "ls_trends = twitter_api.trends.place(_id=LS_WOE_ID)\n",
    "\n",
    "ls_trends_set = set([trend['tweet_volume']\n",
    "                        for trend in ls_trends[0]['trends']])\n",
    "sum_ls = 0\n",
    "for trend in ls_trends_set:\n",
    "    if trend is not None:\n",
    "        sum_ls = sum_ls + trend\n",
    "print(sum_ls)\n"
   ]
  },
  {
   "cell_type": "markdown",
   "metadata": {},
   "source": [
    "## Data for Zurich"
   ]
  },
  {
   "cell_type": "code",
   "execution_count": null,
   "metadata": {},
   "outputs": [],
   "source": [
    "ZH_WOE_ID = 23424977\n",
    "\n",
    "zh_trends = twitter_api.trends.place(_id=ZH_WOE_ID)\n",
    "\n",
    "zh_trends_set = set([trend['tweet_volume']\n",
    "                        for trend in ls_trends[0]['trends']])\n",
    "sum_zh = 0\n",
    "for trend in zh_trends_set:\n",
    "    if trend is not None:\n",
    "        sum_zh = sum_zh + trend\n",
    "print(sum_zh)"
   ]
  }
 ],
 "metadata": {
  "language_info": {
   "name": "python"
  },
  "orig_nbformat": 4
 },
 "nbformat": 4,
 "nbformat_minor": 2
}
