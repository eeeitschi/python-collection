{
 "cells": [
  {
   "cell_type": "code",
   "execution_count": 1,
   "metadata": {},
   "outputs": [
    {
     "data": {
      "text/plain": [
       "1.4142135623730951"
      ]
     },
     "execution_count": 1,
     "metadata": {},
     "output_type": "execute_result"
    }
   ],
   "source": [
    "# Vector normalization\n",
    "import numpy as np\n",
    "vector = np.array([1, -1])\n",
    "\n",
    "np.linalg.norm(vector)"
   ]
  },
  {
   "cell_type": "code",
   "execution_count": 12,
   "metadata": {},
   "outputs": [
    {
     "name": "stdout",
     "output_type": "stream",
     "text": [
      "Matrix: [[1 1]\n",
      " [2 2]]\n",
      "Eigenwerte: [0. 3.]\n",
      "Eigenwerte und passende Eigenvektoren:  (array([0., 3.]), array([[-0.70710678, -0.4472136 ],\n",
      "       [ 0.70710678, -0.89442719]]))\n"
     ]
    }
   ],
   "source": [
    "# Eigenwerte und Eigenvektoren\n",
    "import numpy as np\n",
    "\n",
    "def printEigenvals(matrA):\n",
    "    print('Matrix:', matrA)\n",
    "    eigenvals = np.linalg.eigvals(matrA)\n",
    "    print('Eigenwerte:', eigenvals)\n",
    "    print('Eigenwerte und passende Eigenvektoren: ', np.linalg.eig(matrA))\n",
    "\n",
    "matrix = np.array([[1, 1],[2, 2]])\n",
    "printEigenvals(matrix)\n",
    "\n",
    "# 1 / sqrt(2) ==> 0.70710678\n",
    "# 1 / sqrt(3) ==> 0.57735026\n",
    "# 1 / sqrt(4) ==> 0.5\n",
    "# 1 / sqrt(5) ==> 0.4472136\n",
    "# 1 / sqrt(6) ==> 0.4082482\n",
    "# 1 / sqrt(7) ==> 0.3779644\n",
    "#print(1 / np.sqrt(2))"
   ]
  }
 ],
 "metadata": {
  "kernelspec": {
   "display_name": "Python 3",
   "language": "python",
   "name": "python3"
  },
  "language_info": {
   "codemirror_mode": {
    "name": "ipython",
    "version": 3
   },
   "file_extension": ".py",
   "mimetype": "text/x-python",
   "name": "python",
   "nbconvert_exporter": "python",
   "pygments_lexer": "ipython3",
   "version": "3.9.6"
  },
  "orig_nbformat": 4,
  "vscode": {
   "interpreter": {
    "hash": "31f2aee4e71d21fbe5cf8b01ff0e069b9275f58929596ceb00d14d90e3e16cd6"
   }
  }
 },
 "nbformat": 4,
 "nbformat_minor": 2
}
