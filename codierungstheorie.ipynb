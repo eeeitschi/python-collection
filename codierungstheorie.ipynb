{
 "cells": [
  {
   "cell_type": "code",
   "execution_count": 1,
   "metadata": {},
   "outputs": [],
   "source": [
    "'''Importieren der notwendigen Library'''\n",
    "import numpy as np\n",
    "\n",
    "'''Klassendefinition des HammingCodes'''\n",
    "class HammingCode:\n",
    "    # Konstruktor für die Initialisierung des Hamming-Codes.\n",
    "    def __init__(self, m):\n",
    "        if (m < 2):\n",
    "            raise BaseException('Eingabe ungültig, m muss grösser 2 sein!')\n",
    "        else:\n",
    "            self.d = 3               # Die Hammingdistanz = 3\n",
    "            self.n = (2**m) - 1      # Länge des Codewortes\n",
    "            self.k = (2**m) - 1 - m  # Anzahl an Datenbits\n",
    "            self.p = self.n - self.k # Anzahl an Paritätsbits\n",
    "\n",
    "    'Funktion die alle Indexe der Datenbits zurück gibt'\n",
    "    def __databit_index(self):\n",
    "        index_of_party_bit = [(2**i) for i in range(0, self.p)]\n",
    "        return [i for i in range(1, self.n + 1) if i not in index_of_party_bit]\n",
    "    \n",
    "    'Funktion die alle Prüfbit-Kombinationen in einer Liste retourniert'\n",
    "    def __paritybit_vectors(self):\n",
    "        binaries = [format(i, 'b').zfill(self.p) for i in range(1, self.n + 1)]\n",
    "        databit = self.__databit_index()\n",
    "        parity_bit_list = []\n",
    "        for i in range(0, self.p):\n",
    "            list = []\n",
    "            for j in databit:\n",
    "                list.append(int(binaries[j - 1][-(i + 1)]))\n",
    "            parity_bit_list.append(list)\n",
    "        return parity_bit_list\n",
    "\n",
    "    'Funktion die einen Wort in einen Vector umwandelt'\n",
    "    def __word_to_vector(self, word):\n",
    "        vector = np.array([], dtype=np.int64)\n",
    "        for i in word:\n",
    "            vector = np.append(vector, int(i))\n",
    "        return vector\n",
    "\n",
    "    'Funktion die einen Vektor in ein Wort umwandelt'\n",
    "    def __vector_to_word(self, vector):\n",
    "        codeword = ''\n",
    "        for i in vector:\n",
    "            codeword = codeword + str(i)\n",
    "        return codeword\n",
    "    \n",
    "    'Funktion die eine n x n Einheitsmatrix zurückgibt'\n",
    "    def __unity_matrix(self, n):\n",
    "        Matrix = []\n",
    "        for i in range(0, n):\n",
    "            vector = []\n",
    "            for j in range(0, n):\n",
    "                if(i != j):\n",
    "                    vector.append(0)\n",
    "                else:\n",
    "                    vector.append(1)\n",
    "            Matrix.append(vector)\n",
    "        return Matrix\n",
    "\n",
    "    'Funktion um die Generatormatrix zu berechnen.'\n",
    "    def get_generator_matrix(self):\n",
    "        parity_bit = self.__paritybit_vectors()\n",
    "        gen_matrix = self.__unity_matrix(self.k)\n",
    "        for i in range(0, len(parity_bit)):\n",
    "            gen_matrix.append(parity_bit[i])\n",
    "\n",
    "        return np.array(gen_matrix)\n",
    "\n",
    "    'Funktion um die Checkmatrix zu berechnen.'\n",
    "    def get_check_matrix(self):\n",
    "        parity_bit = self.__paritybit_vectors()\n",
    "        unity_matrix = self.__unity_matrix(self.p)\n",
    "        for i in range(0, len(parity_bit)):\n",
    "            for j in range(0, len(unity_matrix[i])):\n",
    "                parity_bit[i].append(unity_matrix[j][i])\n",
    "        return np.array(parity_bit)\n",
    "\n",
    "    'Funktion die ein binäres Wort codiert und das Codewort zurück liefert.'\n",
    "    def encode(self, wort):\n",
    "        if (len(wort) != self.k):\n",
    "            raise BaseException('Ungültige Eingabe, das Wort muss eine Länge von ' + str(self.k) + ' aufweisen.')\n",
    "        else:\n",
    "            vectorisiert = self.__word_to_vector(wort)\n",
    "            resultat = (self.get_generator_matrix() @ vectorisiert)\n",
    "            # resultat = resultat % 2\n",
    "            return self.__vector_to_word(resultat)\n",
    "\n",
    "    'Funktion die das Codewort decodiert und die originale Nachricht zurückliefert.'\n",
    "    def decode(self, codewort):\n",
    "        codewort = np.array(self.__word_to_vector(codewort))\n",
    "        checked = self.check(codewort)\n",
    "        # Prüfe ob Resultat 0 Vektor ist, dann erste k-Werte zurückgeben.\n",
    "        if(checked == '0' * self.p):\n",
    "            return self.__vector_to_word(codewort[0:self.k])\n",
    "        # Oder den Fehler korrigieren.\n",
    "        else:\n",
    "            checked = np.array(self.__word_to_vector(checked))\n",
    "            for pos, i in enumerate(self.get_check_matrix().transpose()):\n",
    "                # Fehlerindex in der Prüfmatrix ausfindig machen.\n",
    "                if (np.array_equal(checked, i)):\n",
    "                    # Bit an dem entsprechenden Index umwandeln (korrigieren).\n",
    "                    if (codewort[pos] == 0):\n",
    "                        codewort[pos] = 1 \n",
    "                    else: \n",
    "                        codewort[pos] = 0\n",
    "            return self.__vector_to_word(codewort[0:self.k])\n",
    "\n",
    "    'Funktion die prüft ob ein Codewort richtig ist und den Fehler zurück gibt.'\n",
    "    def check(self, codewort):\n",
    "        if(len(codewort) != self.n):\n",
    "            raise BaseException('Ungültige Eingabe, das Codewort muss mindestens die Länge ' + str(self.n) + 'aufweisen.')\n",
    "        else:\n",
    "            vectorisiert = self.__word_to_vector(codewort)\n",
    "            resultat = (self.get_check_matrix() @ vectorisiert)\n",
    "            resultat = resultat % 2\n",
    "            return self.__vector_to_word(resultat)"
   ]
  },
  {
   "cell_type": "code",
   "execution_count": 2,
   "metadata": {},
   "outputs": [
    {
     "name": "stdout",
     "output_type": "stream",
     "text": [
      "Generatormatrix  [[1 0 0 0]\n",
      " [0 1 0 0]\n",
      " [0 0 1 0]\n",
      " [0 0 0 1]\n",
      " [1 1 0 1]\n",
      " [1 0 1 1]\n",
      " [0 1 1 1]]\n",
      "Prüfmatrix [[1 1 0 1 1 0 0]\n",
      " [1 0 1 1 0 1 0]\n",
      " [0 1 1 1 0 0 1]]\n"
     ]
    }
   ],
   "source": [
    "# Instanziierung des Hammingcodes mit m = 3\n",
    "hc = HammingCode(3)\n",
    "\n",
    "# Ausgabe der  Generatormatrix\n",
    "print('Generatormatrix ', hc.get_generator_matrix())\n",
    "\n",
    "#Ausgabe der Prüfmatrix (Check-Matrix)\n",
    "print('Prüfmatrix', hc.get_check_matrix())"
   ]
  },
  {
   "cell_type": "code",
   "execution_count": 3,
   "metadata": {},
   "outputs": [
    {
     "name": "stdout",
     "output_type": "stream",
     "text": [
      "Wort zum Codieren:  0101\n",
      "Codiertes Wort:  0101212\n"
     ]
    }
   ],
   "source": [
    "# Codierung (Encode)\n",
    "print('Wort zum Codieren: ', '0101')\n",
    "print('Codiertes Wort: ', hc.encode('0101'))"
   ]
  },
  {
   "cell_type": "code",
   "execution_count": 4,
   "metadata": {},
   "outputs": [
    {
     "name": "stdout",
     "output_type": "stream",
     "text": [
      "Codewort zum Prüfen:  0101010\n",
      "Überprüfung:  000\n"
     ]
    }
   ],
   "source": [
    "# Überprüfung / Fehlererkennung (Check) ohne Fehler\n",
    "print('Codewort zum Prüfen: ', '0101010')\n",
    "print('Überprüfung: ', hc.check('0101010'))\n",
    "# Ergebnis 000 -> Kein Fehler im Codewort"
   ]
  },
  {
   "cell_type": "code",
   "execution_count": 5,
   "metadata": {},
   "outputs": [
    {
     "name": "stdout",
     "output_type": "stream",
     "text": [
      "Codewort zum Prüfen:  0101011\n",
      "Überprüfung:  001\n"
     ]
    }
   ],
   "source": [
    "# Überprüfung / Fehlererkennung (Check) mit Fehler\n",
    "print('Codewort zum Prüfen: ', '0101011')\n",
    "print('Überprüfung: ', hc.check('0101011'))\n",
    "# Ergebnis 001 -> Fehler im ersten Bit"
   ]
  },
  {
   "cell_type": "code",
   "execution_count": 6,
   "metadata": {},
   "outputs": [
    {
     "name": "stdout",
     "output_type": "stream",
     "text": [
      "Codewort zum Decodieren: 0101010\n",
      "Encodiertes Wort:  0101\n"
     ]
    }
   ],
   "source": [
    "# Decodierung (Decode) ohne Fehlerkorrektur\n",
    "print('Codewort zum Decodieren:', '0101010')\n",
    "print('Encodiertes Wort: ', hc.decode('0101010'))"
   ]
  },
  {
   "cell_type": "code",
   "execution_count": 7,
   "metadata": {},
   "outputs": [
    {
     "name": "stdout",
     "output_type": "stream",
     "text": [
      "Codewort zum Decodieren: 0101011\n",
      "Encodiertes Wort:  0101\n",
      "Codewort zum Decodieren: 0101110\n",
      "Encodiertes Wort:  0101\n"
     ]
    }
   ],
   "source": [
    "# Decodierung (Decode) mit Fehlerkorrektur\n",
    "print('Codewort zum Decodieren:', '0101011')\n",
    "print('Encodiertes Wort: ', hc.decode('0101011'))\n",
    "print('Codewort zum Decodieren:', '0101110')\n",
    "print('Encodiertes Wort: ', hc.decode('0101110'))"
   ]
  },
  {
   "cell_type": "code",
   "execution_count": 8,
   "metadata": {},
   "outputs": [
    {
     "name": "stdout",
     "output_type": "stream",
     "text": [
      "Codewort zum Decodieren: 0101111\n",
      "Überprüfung:  101\n",
      "Encodiertes Wort:  0001\n",
      "Codiertes Wort:  0001111\n"
     ]
    }
   ],
   "source": [
    "# Decodierung (Decode) mit Fehlerkorrektur mit 2 Fehler\n",
    "print('Codewort zum Decodieren:', '0101111')\n",
    "print('Überprüfung: ', hc.check('0101111'))\n",
    "print('Encodiertes Wort: ', hc.decode('0101111'))\n",
    "print('Codiertes Wort: ', hc.encode('0001'))"
   ]
  }
 ],
 "metadata": {
  "kernelspec": {
   "display_name": "base",
   "language": "python",
   "name": "python3"
  },
  "language_info": {
   "codemirror_mode": {
    "name": "ipython",
    "version": 3
   },
   "file_extension": ".py",
   "mimetype": "text/x-python",
   "name": "python",
   "nbconvert_exporter": "python",
   "pygments_lexer": "ipython3",
   "version": "3.9.13"
  },
  "vscode": {
   "interpreter": {
    "hash": "074d946918b64aeb6213f0c0f3673d108bc18f36e4c77422404151a90a25ac0b"
   }
  }
 },
 "nbformat": 4,
 "nbformat_minor": 4
}
